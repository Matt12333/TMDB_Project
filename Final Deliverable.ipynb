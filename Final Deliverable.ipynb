{
 "cells": [
  {
   "cell_type": "markdown",
   "id": "ef327c15-6349-4ab9-9f38-4baf1d340708",
   "metadata": {},
   "source": [
    "# Programatic Data Wrangaling - TMDB Exploratory Data Analysis\n",
    "##### With Matt Powell"
   ]
  },
  {
   "cell_type": "markdown",
   "id": "4fcd198c-d1b5-47ae-ab26-6c1325c5fe25",
   "metadata": {},
   "source": [
    "## 1) Is the Data Reliable?\n",
    "\n",
    "\"If the data is not reliable, neither are the insights\""
   ]
  },
  {
   "cell_type": "markdown",
   "id": "12b5273e-2954-46c1-8122-cfb9ced05e7c",
   "metadata": {},
   "source": [
    "#### Import libraries and data\n",
    "\n",
    "The initial review of the data:"
   ]
  },
  {
   "cell_type": "code",
   "execution_count": 4,
   "id": "7e09de66-477b-4d1e-81f6-c1046acf9400",
   "metadata": {
    "jupyter": {
     "source_hidden": true
    }
   },
   "outputs": [],
   "source": [
    "import pandas as pd\n",
    "import matplotlib.pyplot as plt\n",
    "import seaborn as sns\n",
    "import ast\n",
    "\n",
    "data = r'C:\\Users\\Matth\\OneDrive\\Desktop\\Digital Futures\\Projects\\TMDB\\Data\\TMDB_movies.csv'\n",
    "\n",
    "df = pd.read_csv(data)"
   ]
  },
  {
   "cell_type": "code",
   "execution_count": 5,
   "id": "5f44154c-e59a-4fd1-b2e3-f89e8743bb17",
   "metadata": {
    "jupyter": {
     "source_hidden": true
    }
   },
   "outputs": [
    {
     "data": {
      "text/html": [
       "<div>\n",
       "<style scoped>\n",
       "    .dataframe tbody tr th:only-of-type {\n",
       "        vertical-align: middle;\n",
       "    }\n",
       "\n",
       "    .dataframe tbody tr th {\n",
       "        vertical-align: top;\n",
       "    }\n",
       "\n",
       "    .dataframe thead th {\n",
       "        text-align: right;\n",
       "    }\n",
       "</style>\n",
       "<table border=\"1\" class=\"dataframe\">\n",
       "  <thead>\n",
       "    <tr style=\"text-align: right;\">\n",
       "      <th></th>\n",
       "      <th>budget</th>\n",
       "      <th>genres</th>\n",
       "      <th>homepage</th>\n",
       "      <th>id</th>\n",
       "      <th>keywords</th>\n",
       "      <th>original_language</th>\n",
       "      <th>original_title</th>\n",
       "      <th>overview</th>\n",
       "      <th>popularity</th>\n",
       "      <th>production_companies</th>\n",
       "      <th>production_countries</th>\n",
       "      <th>release_date</th>\n",
       "      <th>revenue</th>\n",
       "      <th>runtime</th>\n",
       "      <th>spoken_languages</th>\n",
       "      <th>status</th>\n",
       "      <th>tagline</th>\n",
       "      <th>title</th>\n",
       "      <th>vote_average</th>\n",
       "      <th>vote_count</th>\n",
       "    </tr>\n",
       "  </thead>\n",
       "  <tbody>\n",
       "    <tr>\n",
       "      <th>0</th>\n",
       "      <td>237000000</td>\n",
       "      <td>[{\"id\": 28, \"name\": \"Action\"}, {\"id\": 12, \"nam...</td>\n",
       "      <td>http://www.avatarmovie.com/</td>\n",
       "      <td>19995</td>\n",
       "      <td>[{\"id\": 1463, \"name\": \"culture clash\"}, {\"id\":...</td>\n",
       "      <td>en</td>\n",
       "      <td>Avatar</td>\n",
       "      <td>In the 22nd century, a paraplegic Marine is di...</td>\n",
       "      <td>150.437577</td>\n",
       "      <td>[{\"name\": \"Ingenious Film Partners\", \"id\": 289...</td>\n",
       "      <td>[{\"iso_3166_1\": \"US\", \"name\": \"United States o...</td>\n",
       "      <td>2009-12-10</td>\n",
       "      <td>2787965087</td>\n",
       "      <td>162.0</td>\n",
       "      <td>[{\"iso_639_1\": \"en\", \"name\": \"English\"}, {\"iso...</td>\n",
       "      <td>Released</td>\n",
       "      <td>Enter the World of Pandora.</td>\n",
       "      <td>Avatar</td>\n",
       "      <td>7.2</td>\n",
       "      <td>11800</td>\n",
       "    </tr>\n",
       "  </tbody>\n",
       "</table>\n",
       "</div>"
      ],
      "text/plain": [
       "      budget                                             genres  \\\n",
       "0  237000000  [{\"id\": 28, \"name\": \"Action\"}, {\"id\": 12, \"nam...   \n",
       "\n",
       "                      homepage     id  \\\n",
       "0  http://www.avatarmovie.com/  19995   \n",
       "\n",
       "                                            keywords original_language  \\\n",
       "0  [{\"id\": 1463, \"name\": \"culture clash\"}, {\"id\":...                en   \n",
       "\n",
       "  original_title                                           overview  \\\n",
       "0         Avatar  In the 22nd century, a paraplegic Marine is di...   \n",
       "\n",
       "   popularity                               production_companies  \\\n",
       "0  150.437577  [{\"name\": \"Ingenious Film Partners\", \"id\": 289...   \n",
       "\n",
       "                                production_countries release_date     revenue  \\\n",
       "0  [{\"iso_3166_1\": \"US\", \"name\": \"United States o...   2009-12-10  2787965087   \n",
       "\n",
       "   runtime                                   spoken_languages    status  \\\n",
       "0    162.0  [{\"iso_639_1\": \"en\", \"name\": \"English\"}, {\"iso...  Released   \n",
       "\n",
       "                       tagline   title  vote_average  vote_count  \n",
       "0  Enter the World of Pandora.  Avatar           7.2       11800  "
      ]
     },
     "execution_count": 5,
     "metadata": {},
     "output_type": "execute_result"
    }
   ],
   "source": [
    "df.head(1)"
   ]
  },
  {
   "cell_type": "markdown",
   "id": "69feb153-bf2f-4568-813a-700c4f4dcef5",
   "metadata": {},
   "source": [
    "#### Cleaning the data - Formatting\n",
    "\n",
    "Many of the columns were formatted as dictionaries so I was unable to work with the data in these columns.\n",
    "\n",
    "The columns containing dictionaries were ran through a function to turn them into workable lists."
   ]
  },
  {
   "cell_type": "code",
   "execution_count": 7,
   "id": "ab316073-8374-425b-964e-75873ceb5fb7",
   "metadata": {
    "jupyter": {
     "source_hidden": true
    }
   },
   "outputs": [],
   "source": [
    "def extract_dictionaries(x):\n",
    "    x = ast.literal_eval(x)\n",
    "    new_list = []\n",
    "    \n",
    "    for item in x:\n",
    "        new_list.append(item['name'])\n",
    "        \n",
    "    return new_list\n",
    "\n",
    "df['genres'] = df['genres'].apply(extract_dictionaries)\n",
    "df['keywords'] = df['keywords'].apply(extract_dictionaries)\n",
    "df['production_companies'] = df['production_companies'].apply(extract_dictionaries)\n",
    "df['production_countries'] = df['production_countries'].apply(extract_dictionaries)\n",
    "df['spoken_languages'] = df['spoken_languages'].apply(extract_dictionaries)\n",
    "\n",
    "# Rounded down due to unneccessary number of decimal places\n",
    "\n",
    "df['popularity'] = round(df['popularity'], 2)"
   ]
  },
  {
   "cell_type": "code",
   "execution_count": 8,
   "id": "e8d2cb16-080c-4693-b3d1-cdb742488cc7",
   "metadata": {
    "jupyter": {
     "source_hidden": true
    }
   },
   "outputs": [
    {
     "data": {
      "text/html": [
       "<div>\n",
       "<style scoped>\n",
       "    .dataframe tbody tr th:only-of-type {\n",
       "        vertical-align: middle;\n",
       "    }\n",
       "\n",
       "    .dataframe tbody tr th {\n",
       "        vertical-align: top;\n",
       "    }\n",
       "\n",
       "    .dataframe thead th {\n",
       "        text-align: right;\n",
       "    }\n",
       "</style>\n",
       "<table border=\"1\" class=\"dataframe\">\n",
       "  <thead>\n",
       "    <tr style=\"text-align: right;\">\n",
       "      <th></th>\n",
       "      <th>budget</th>\n",
       "      <th>genres</th>\n",
       "      <th>homepage</th>\n",
       "      <th>id</th>\n",
       "      <th>keywords</th>\n",
       "      <th>original_language</th>\n",
       "      <th>original_title</th>\n",
       "      <th>overview</th>\n",
       "      <th>popularity</th>\n",
       "      <th>production_companies</th>\n",
       "      <th>production_countries</th>\n",
       "      <th>release_date</th>\n",
       "      <th>revenue</th>\n",
       "      <th>runtime</th>\n",
       "      <th>spoken_languages</th>\n",
       "      <th>status</th>\n",
       "      <th>tagline</th>\n",
       "      <th>title</th>\n",
       "      <th>vote_average</th>\n",
       "      <th>vote_count</th>\n",
       "    </tr>\n",
       "  </thead>\n",
       "  <tbody>\n",
       "    <tr>\n",
       "      <th>0</th>\n",
       "      <td>237000000</td>\n",
       "      <td>[Action, Adventure, Fantasy, Science Fiction]</td>\n",
       "      <td>http://www.avatarmovie.com/</td>\n",
       "      <td>19995</td>\n",
       "      <td>[culture clash, future, space war, space colon...</td>\n",
       "      <td>en</td>\n",
       "      <td>Avatar</td>\n",
       "      <td>In the 22nd century, a paraplegic Marine is di...</td>\n",
       "      <td>150.44</td>\n",
       "      <td>[Ingenious Film Partners, Twentieth Century Fo...</td>\n",
       "      <td>[United States of America, United Kingdom]</td>\n",
       "      <td>2009-12-10</td>\n",
       "      <td>2787965087</td>\n",
       "      <td>162.0</td>\n",
       "      <td>[English, Español]</td>\n",
       "      <td>Released</td>\n",
       "      <td>Enter the World of Pandora.</td>\n",
       "      <td>Avatar</td>\n",
       "      <td>7.2</td>\n",
       "      <td>11800</td>\n",
       "    </tr>\n",
       "  </tbody>\n",
       "</table>\n",
       "</div>"
      ],
      "text/plain": [
       "      budget                                         genres  \\\n",
       "0  237000000  [Action, Adventure, Fantasy, Science Fiction]   \n",
       "\n",
       "                      homepage     id  \\\n",
       "0  http://www.avatarmovie.com/  19995   \n",
       "\n",
       "                                            keywords original_language  \\\n",
       "0  [culture clash, future, space war, space colon...                en   \n",
       "\n",
       "  original_title                                           overview  \\\n",
       "0         Avatar  In the 22nd century, a paraplegic Marine is di...   \n",
       "\n",
       "   popularity                               production_companies  \\\n",
       "0      150.44  [Ingenious Film Partners, Twentieth Century Fo...   \n",
       "\n",
       "                         production_countries release_date     revenue  \\\n",
       "0  [United States of America, United Kingdom]   2009-12-10  2787965087   \n",
       "\n",
       "   runtime    spoken_languages    status                      tagline   title  \\\n",
       "0    162.0  [English, Español]  Released  Enter the World of Pandora.  Avatar   \n",
       "\n",
       "   vote_average  vote_count  \n",
       "0           7.2       11800  "
      ]
     },
     "execution_count": 8,
     "metadata": {},
     "output_type": "execute_result"
    }
   ],
   "source": [
    "df.head(1)"
   ]
  },
  {
   "cell_type": "markdown",
   "id": "f95ecace-e7ce-4872-9b86-e320d8bfef5b",
   "metadata": {},
   "source": [
    "#### Narrowing the scope of analysis\n",
    "\n",
    "I removed many of the columns that I didn't see as useful for the direction of my analysis.  \n",
    "  \n",
    "This allowed the dataframe to be more readable"
   ]
  },
  {
   "cell_type": "code",
   "execution_count": 10,
   "id": "1a555483-2d0b-4103-a9f2-cf8856f8a8bf",
   "metadata": {
    "jupyter": {
     "source_hidden": true
    }
   },
   "outputs": [
    {
     "data": {
      "text/html": [
       "<div>\n",
       "<style scoped>\n",
       "    .dataframe tbody tr th:only-of-type {\n",
       "        vertical-align: middle;\n",
       "    }\n",
       "\n",
       "    .dataframe tbody tr th {\n",
       "        vertical-align: top;\n",
       "    }\n",
       "\n",
       "    .dataframe thead th {\n",
       "        text-align: right;\n",
       "    }\n",
       "</style>\n",
       "<table border=\"1\" class=\"dataframe\">\n",
       "  <thead>\n",
       "    <tr style=\"text-align: right;\">\n",
       "      <th></th>\n",
       "      <th>budget</th>\n",
       "      <th>genres</th>\n",
       "      <th>title</th>\n",
       "      <th>popularity</th>\n",
       "      <th>revenue</th>\n",
       "      <th>runtime</th>\n",
       "      <th>status</th>\n",
       "      <th>vote_average</th>\n",
       "      <th>vote_count</th>\n",
       "      <th>release_date</th>\n",
       "    </tr>\n",
       "  </thead>\n",
       "  <tbody>\n",
       "    <tr>\n",
       "      <th>0</th>\n",
       "      <td>237000000</td>\n",
       "      <td>[Action, Adventure, Fantasy, Science Fiction]</td>\n",
       "      <td>Avatar</td>\n",
       "      <td>150.44</td>\n",
       "      <td>2787965087</td>\n",
       "      <td>162.0</td>\n",
       "      <td>Released</td>\n",
       "      <td>7.2</td>\n",
       "      <td>11800</td>\n",
       "      <td>2009-12-10</td>\n",
       "    </tr>\n",
       "    <tr>\n",
       "      <th>25</th>\n",
       "      <td>200000000</td>\n",
       "      <td>[Drama, Romance, Thriller]</td>\n",
       "      <td>Titanic</td>\n",
       "      <td>100.03</td>\n",
       "      <td>1845034188</td>\n",
       "      <td>194.0</td>\n",
       "      <td>Released</td>\n",
       "      <td>7.5</td>\n",
       "      <td>7562</td>\n",
       "      <td>1997-11-18</td>\n",
       "    </tr>\n",
       "    <tr>\n",
       "      <th>16</th>\n",
       "      <td>220000000</td>\n",
       "      <td>[Science Fiction, Action, Adventure]</td>\n",
       "      <td>The Avengers</td>\n",
       "      <td>144.45</td>\n",
       "      <td>1519557910</td>\n",
       "      <td>143.0</td>\n",
       "      <td>Released</td>\n",
       "      <td>7.4</td>\n",
       "      <td>11776</td>\n",
       "      <td>2012-04-25</td>\n",
       "    </tr>\n",
       "    <tr>\n",
       "      <th>28</th>\n",
       "      <td>150000000</td>\n",
       "      <td>[Action, Adventure, Science Fiction, Thriller]</td>\n",
       "      <td>Jurassic World</td>\n",
       "      <td>418.71</td>\n",
       "      <td>1513528810</td>\n",
       "      <td>124.0</td>\n",
       "      <td>Released</td>\n",
       "      <td>6.5</td>\n",
       "      <td>8662</td>\n",
       "      <td>2015-06-09</td>\n",
       "    </tr>\n",
       "    <tr>\n",
       "      <th>44</th>\n",
       "      <td>190000000</td>\n",
       "      <td>[Action]</td>\n",
       "      <td>Furious 7</td>\n",
       "      <td>102.32</td>\n",
       "      <td>1506249360</td>\n",
       "      <td>137.0</td>\n",
       "      <td>Released</td>\n",
       "      <td>7.3</td>\n",
       "      <td>4176</td>\n",
       "      <td>2015-04-01</td>\n",
       "    </tr>\n",
       "    <tr>\n",
       "      <th>...</th>\n",
       "      <td>...</td>\n",
       "      <td>...</td>\n",
       "      <td>...</td>\n",
       "      <td>...</td>\n",
       "      <td>...</td>\n",
       "      <td>...</td>\n",
       "      <td>...</td>\n",
       "      <td>...</td>\n",
       "      <td>...</td>\n",
       "      <td>...</td>\n",
       "    </tr>\n",
       "    <tr>\n",
       "      <th>3200</th>\n",
       "      <td>0</td>\n",
       "      <td>[Drama, Romance]</td>\n",
       "      <td>The Girl on the Train</td>\n",
       "      <td>2.35</td>\n",
       "      <td>0</td>\n",
       "      <td>105.0</td>\n",
       "      <td>Released</td>\n",
       "      <td>5.6</td>\n",
       "      <td>10</td>\n",
       "      <td>2009-03-18</td>\n",
       "    </tr>\n",
       "    <tr>\n",
       "      <th>3199</th>\n",
       "      <td>0</td>\n",
       "      <td>[Thriller, Mystery, Crime, Drama]</td>\n",
       "      <td>Red Riding: In the Year of Our Lord 1974</td>\n",
       "      <td>7.25</td>\n",
       "      <td>0</td>\n",
       "      <td>102.0</td>\n",
       "      <td>Released</td>\n",
       "      <td>7.0</td>\n",
       "      <td>54</td>\n",
       "      <td>2009-02-28</td>\n",
       "    </tr>\n",
       "    <tr>\n",
       "      <th>3197</th>\n",
       "      <td>6500000</td>\n",
       "      <td>[Crime, Drama, History, War]</td>\n",
       "      <td>Flame &amp; Citron</td>\n",
       "      <td>7.03</td>\n",
       "      <td>0</td>\n",
       "      <td>130.0</td>\n",
       "      <td>Released</td>\n",
       "      <td>6.8</td>\n",
       "      <td>68</td>\n",
       "      <td>2008-03-25</td>\n",
       "    </tr>\n",
       "    <tr>\n",
       "      <th>3194</th>\n",
       "      <td>9000000</td>\n",
       "      <td>[Comedy, Drama]</td>\n",
       "      <td>All or Nothing</td>\n",
       "      <td>2.87</td>\n",
       "      <td>0</td>\n",
       "      <td>128.0</td>\n",
       "      <td>Released</td>\n",
       "      <td>7.0</td>\n",
       "      <td>33</td>\n",
       "      <td>2002-05-17</td>\n",
       "    </tr>\n",
       "    <tr>\n",
       "      <th>4802</th>\n",
       "      <td>0</td>\n",
       "      <td>[Documentary]</td>\n",
       "      <td>My Date with Drew</td>\n",
       "      <td>1.93</td>\n",
       "      <td>0</td>\n",
       "      <td>90.0</td>\n",
       "      <td>Released</td>\n",
       "      <td>6.3</td>\n",
       "      <td>16</td>\n",
       "      <td>2005-08-05</td>\n",
       "    </tr>\n",
       "  </tbody>\n",
       "</table>\n",
       "<p>4803 rows × 10 columns</p>\n",
       "</div>"
      ],
      "text/plain": [
       "         budget                                          genres  \\\n",
       "0     237000000   [Action, Adventure, Fantasy, Science Fiction]   \n",
       "25    200000000                      [Drama, Romance, Thriller]   \n",
       "16    220000000            [Science Fiction, Action, Adventure]   \n",
       "28    150000000  [Action, Adventure, Science Fiction, Thriller]   \n",
       "44    190000000                                        [Action]   \n",
       "...         ...                                             ...   \n",
       "3200          0                                [Drama, Romance]   \n",
       "3199          0               [Thriller, Mystery, Crime, Drama]   \n",
       "3197    6500000                    [Crime, Drama, History, War]   \n",
       "3194    9000000                                 [Comedy, Drama]   \n",
       "4802          0                                   [Documentary]   \n",
       "\n",
       "                                         title  popularity     revenue  \\\n",
       "0                                       Avatar      150.44  2787965087   \n",
       "25                                     Titanic      100.03  1845034188   \n",
       "16                                The Avengers      144.45  1519557910   \n",
       "28                              Jurassic World      418.71  1513528810   \n",
       "44                                   Furious 7      102.32  1506249360   \n",
       "...                                        ...         ...         ...   \n",
       "3200                     The Girl on the Train        2.35           0   \n",
       "3199  Red Riding: In the Year of Our Lord 1974        7.25           0   \n",
       "3197                            Flame & Citron        7.03           0   \n",
       "3194                            All or Nothing        2.87           0   \n",
       "4802                         My Date with Drew        1.93           0   \n",
       "\n",
       "      runtime    status  vote_average  vote_count release_date  \n",
       "0       162.0  Released           7.2       11800   2009-12-10  \n",
       "25      194.0  Released           7.5        7562   1997-11-18  \n",
       "16      143.0  Released           7.4       11776   2012-04-25  \n",
       "28      124.0  Released           6.5        8662   2015-06-09  \n",
       "44      137.0  Released           7.3        4176   2015-04-01  \n",
       "...       ...       ...           ...         ...          ...  \n",
       "3200    105.0  Released           5.6          10   2009-03-18  \n",
       "3199    102.0  Released           7.0          54   2009-02-28  \n",
       "3197    130.0  Released           6.8          68   2008-03-25  \n",
       "3194    128.0  Released           7.0          33   2002-05-17  \n",
       "4802     90.0  Released           6.3          16   2005-08-05  \n",
       "\n",
       "[4803 rows x 10 columns]"
      ]
     },
     "execution_count": 10,
     "metadata": {},
     "output_type": "execute_result"
    }
   ],
   "source": [
    "df = df[['budget', 'genres', 'title', 'popularity', 'revenue', 'runtime', 'status', 'vote_average', 'vote_count', 'release_date']].reset_index(drop=True)\n",
    "\n",
    "df.sort_values(by=['revenue'], ascending=False)"
   ]
  },
  {
   "cell_type": "code",
   "execution_count": 11,
   "id": "d69dc1f7-9325-42f0-8112-e2dd81416428",
   "metadata": {
    "jupyter": {
     "source_hidden": true
    }
   },
   "outputs": [
    {
     "data": {
      "text/html": [
       "<div>\n",
       "<style scoped>\n",
       "    .dataframe tbody tr th:only-of-type {\n",
       "        vertical-align: middle;\n",
       "    }\n",
       "\n",
       "    .dataframe tbody tr th {\n",
       "        vertical-align: top;\n",
       "    }\n",
       "\n",
       "    .dataframe thead th {\n",
       "        text-align: right;\n",
       "    }\n",
       "</style>\n",
       "<table border=\"1\" class=\"dataframe\">\n",
       "  <thead>\n",
       "    <tr style=\"text-align: right;\">\n",
       "      <th></th>\n",
       "      <th>budget</th>\n",
       "      <th>genres</th>\n",
       "      <th>title</th>\n",
       "      <th>popularity</th>\n",
       "      <th>revenue</th>\n",
       "      <th>runtime</th>\n",
       "      <th>status</th>\n",
       "      <th>vote_average</th>\n",
       "      <th>vote_count</th>\n",
       "      <th>release_date</th>\n",
       "    </tr>\n",
       "  </thead>\n",
       "  <tbody>\n",
       "    <tr>\n",
       "      <th>0</th>\n",
       "      <td>237000000</td>\n",
       "      <td>[Action, Adventure, Fantasy, Science Fiction]</td>\n",
       "      <td>Avatar</td>\n",
       "      <td>150.44</td>\n",
       "      <td>2787965087</td>\n",
       "      <td>162.0</td>\n",
       "      <td>Released</td>\n",
       "      <td>7.2</td>\n",
       "      <td>11800</td>\n",
       "      <td>2009-12-10</td>\n",
       "    </tr>\n",
       "    <tr>\n",
       "      <th>1</th>\n",
       "      <td>300000000</td>\n",
       "      <td>[Adventure, Fantasy, Action]</td>\n",
       "      <td>Pirates of the Caribbean: At World's End</td>\n",
       "      <td>139.08</td>\n",
       "      <td>961000000</td>\n",
       "      <td>169.0</td>\n",
       "      <td>Released</td>\n",
       "      <td>6.9</td>\n",
       "      <td>4500</td>\n",
       "      <td>2007-05-19</td>\n",
       "    </tr>\n",
       "    <tr>\n",
       "      <th>2</th>\n",
       "      <td>245000000</td>\n",
       "      <td>[Action, Adventure, Crime]</td>\n",
       "      <td>Spectre</td>\n",
       "      <td>107.38</td>\n",
       "      <td>880674609</td>\n",
       "      <td>148.0</td>\n",
       "      <td>Released</td>\n",
       "      <td>6.3</td>\n",
       "      <td>4466</td>\n",
       "      <td>2015-10-26</td>\n",
       "    </tr>\n",
       "    <tr>\n",
       "      <th>3</th>\n",
       "      <td>250000000</td>\n",
       "      <td>[Action, Crime, Drama, Thriller]</td>\n",
       "      <td>The Dark Knight Rises</td>\n",
       "      <td>112.31</td>\n",
       "      <td>1084939099</td>\n",
       "      <td>165.0</td>\n",
       "      <td>Released</td>\n",
       "      <td>7.6</td>\n",
       "      <td>9106</td>\n",
       "      <td>2012-07-16</td>\n",
       "    </tr>\n",
       "  </tbody>\n",
       "</table>\n",
       "</div>"
      ],
      "text/plain": [
       "      budget                                         genres  \\\n",
       "0  237000000  [Action, Adventure, Fantasy, Science Fiction]   \n",
       "1  300000000                   [Adventure, Fantasy, Action]   \n",
       "2  245000000                     [Action, Adventure, Crime]   \n",
       "3  250000000               [Action, Crime, Drama, Thriller]   \n",
       "\n",
       "                                      title  popularity     revenue  runtime  \\\n",
       "0                                    Avatar      150.44  2787965087    162.0   \n",
       "1  Pirates of the Caribbean: At World's End      139.08   961000000    169.0   \n",
       "2                                   Spectre      107.38   880674609    148.0   \n",
       "3                     The Dark Knight Rises      112.31  1084939099    165.0   \n",
       "\n",
       "     status  vote_average  vote_count release_date  \n",
       "0  Released           7.2       11800   2009-12-10  \n",
       "1  Released           6.9        4500   2007-05-19  \n",
       "2  Released           6.3        4466   2015-10-26  \n",
       "3  Released           7.6        9106   2012-07-16  "
      ]
     },
     "execution_count": 11,
     "metadata": {},
     "output_type": "execute_result"
    }
   ],
   "source": [
    "df.head(4)"
   ]
  },
  {
   "cell_type": "markdown",
   "id": "6f6fee6e-908a-444e-982f-1d9c0a2fd1d7",
   "metadata": {},
   "source": [
    "#### Cleaning the data - Removing Nulls\n",
    "\n",
    "There were three null values in total, across three rows, within the selected data.\n",
    "\n",
    "The rows either had no other data in the row or they were insignificant enough to be removed from the dataset."
   ]
  },
  {
   "cell_type": "code",
   "execution_count": 13,
   "id": "3b78e4df-0cba-4039-a37c-a8751bf7690e",
   "metadata": {
    "collapsed": true,
    "jupyter": {
     "outputs_hidden": true,
     "source_hidden": true
    }
   },
   "outputs": [
    {
     "data": {
      "text/plain": [
       "budget          0\n",
       "genres          0\n",
       "title           0\n",
       "popularity      0\n",
       "revenue         0\n",
       "runtime         2\n",
       "status          0\n",
       "vote_average    0\n",
       "vote_count      0\n",
       "release_date    1\n",
       "dtype: int64"
      ]
     },
     "execution_count": 13,
     "metadata": {},
     "output_type": "execute_result"
    }
   ],
   "source": [
    "df.isnull().sum()"
   ]
  },
  {
   "cell_type": "markdown",
   "id": "e774bab6-bb63-4027-8b1b-6bca91ec956e",
   "metadata": {},
   "source": [
    "The null values were removed from the dataset."
   ]
  },
  {
   "cell_type": "code",
   "execution_count": 15,
   "id": "90d99ed3-87ca-4f5b-8b78-1803c7e6455d",
   "metadata": {
    "jupyter": {
     "source_hidden": true
    }
   },
   "outputs": [],
   "source": [
    "df.dropna(inplace=True)"
   ]
  },
  {
   "cell_type": "code",
   "execution_count": 16,
   "id": "cf8d1794-78dd-4218-89db-289127a244b1",
   "metadata": {
    "collapsed": true,
    "jupyter": {
     "outputs_hidden": true,
     "source_hidden": true
    }
   },
   "outputs": [
    {
     "data": {
      "text/plain": [
       "budget          0\n",
       "genres          0\n",
       "title           0\n",
       "popularity      0\n",
       "revenue         0\n",
       "runtime         0\n",
       "status          0\n",
       "vote_average    0\n",
       "vote_count      0\n",
       "release_date    0\n",
       "dtype: int64"
      ]
     },
     "execution_count": 16,
     "metadata": {},
     "output_type": "execute_result"
    }
   ],
   "source": [
    "df.isnull().sum()"
   ]
  },
  {
   "cell_type": "markdown",
   "id": "12171fa6-98bd-401a-a5b5-5eaa89908ec0",
   "metadata": {},
   "source": [
    "#### Limitations in the Data - Filling the Gaps\n",
    "Many movies have either:\n",
    "- 0 budget whilst the revenue is extremely high, such as 'Wild Hogs'.\n",
    "- 0 revenue whilst the budget is extremely high, such as 'Wolfman'\n",
    "\n",
    "There are too many movies to manually fill in."
   ]
  },
  {
   "cell_type": "code",
   "execution_count": 18,
   "id": "8966fa04-1b16-4115-9c4c-4c276433a931",
   "metadata": {
    "jupyter": {
     "source_hidden": true
    }
   },
   "outputs": [
    {
     "data": {
      "text/html": [
       "<div>\n",
       "<style scoped>\n",
       "    .dataframe tbody tr th:only-of-type {\n",
       "        vertical-align: middle;\n",
       "    }\n",
       "\n",
       "    .dataframe tbody tr th {\n",
       "        vertical-align: top;\n",
       "    }\n",
       "\n",
       "    .dataframe thead th {\n",
       "        text-align: right;\n",
       "    }\n",
       "</style>\n",
       "<table border=\"1\" class=\"dataframe\">\n",
       "  <thead>\n",
       "    <tr style=\"text-align: right;\">\n",
       "      <th></th>\n",
       "      <th>budget</th>\n",
       "      <th>genres</th>\n",
       "      <th>title</th>\n",
       "      <th>popularity</th>\n",
       "      <th>revenue</th>\n",
       "      <th>runtime</th>\n",
       "      <th>status</th>\n",
       "      <th>vote_average</th>\n",
       "      <th>vote_count</th>\n",
       "      <th>release_date</th>\n",
       "    </tr>\n",
       "  </thead>\n",
       "  <tbody>\n",
       "    <tr>\n",
       "      <th>0</th>\n",
       "      <td>0</td>\n",
       "      <td>[Action, Adventure, Comedy]</td>\n",
       "      <td>Wild Hogs</td>\n",
       "      <td>31.72</td>\n",
       "      <td>253625427</td>\n",
       "      <td>100.0</td>\n",
       "      <td>Released</td>\n",
       "      <td>5.6</td>\n",
       "      <td>648</td>\n",
       "      <td>2007-03-02</td>\n",
       "    </tr>\n",
       "  </tbody>\n",
       "</table>\n",
       "</div>"
      ],
      "text/plain": [
       "   budget                       genres      title  popularity    revenue  \\\n",
       "0       0  [Action, Adventure, Comedy]  Wild Hogs       31.72  253625427   \n",
       "\n",
       "   runtime    status  vote_average  vote_count release_date  \n",
       "0    100.0  Released           5.6         648   2007-03-02  "
      ]
     },
     "execution_count": 18,
     "metadata": {},
     "output_type": "execute_result"
    }
   ],
   "source": [
    "budget = df[(df['budget'] == 0) & (df['revenue'] > 1_000_000)]\\\n",
    "    .sort_values(by=['revenue'], ascending=False)\\\n",
    "    .reset_index(drop=True)\\\n",
    "    .head(10)\n",
    "\n",
    "budget.head(1)"
   ]
  },
  {
   "cell_type": "code",
   "execution_count": 19,
   "id": "99d81391-d764-4fd8-8cb2-7d3d7e61ca1c",
   "metadata": {
    "jupyter": {
     "source_hidden": true
    }
   },
   "outputs": [
    {
     "data": {
      "text/html": [
       "<div>\n",
       "<style scoped>\n",
       "    .dataframe tbody tr th:only-of-type {\n",
       "        vertical-align: middle;\n",
       "    }\n",
       "\n",
       "    .dataframe tbody tr th {\n",
       "        vertical-align: top;\n",
       "    }\n",
       "\n",
       "    .dataframe thead th {\n",
       "        text-align: right;\n",
       "    }\n",
       "</style>\n",
       "<table border=\"1\" class=\"dataframe\">\n",
       "  <thead>\n",
       "    <tr style=\"text-align: right;\">\n",
       "      <th></th>\n",
       "      <th>budget</th>\n",
       "      <th>genres</th>\n",
       "      <th>title</th>\n",
       "      <th>popularity</th>\n",
       "      <th>revenue</th>\n",
       "      <th>runtime</th>\n",
       "      <th>status</th>\n",
       "      <th>vote_average</th>\n",
       "      <th>vote_count</th>\n",
       "      <th>release_date</th>\n",
       "    </tr>\n",
       "  </thead>\n",
       "  <tbody>\n",
       "    <tr>\n",
       "      <th>0</th>\n",
       "      <td>150000000</td>\n",
       "      <td>[Drama, Horror, Thriller]</td>\n",
       "      <td>The Wolfman</td>\n",
       "      <td>21.21</td>\n",
       "      <td>0</td>\n",
       "      <td>102.0</td>\n",
       "      <td>Released</td>\n",
       "      <td>5.5</td>\n",
       "      <td>549</td>\n",
       "      <td>2010-02-11</td>\n",
       "    </tr>\n",
       "  </tbody>\n",
       "</table>\n",
       "</div>"
      ],
      "text/plain": [
       "      budget                     genres        title  popularity  revenue  \\\n",
       "0  150000000  [Drama, Horror, Thriller]  The Wolfman       21.21        0   \n",
       "\n",
       "   runtime    status  vote_average  vote_count release_date  \n",
       "0    102.0  Released           5.5         549   2010-02-11  "
      ]
     },
     "execution_count": 19,
     "metadata": {},
     "output_type": "execute_result"
    }
   ],
   "source": [
    "revenue = df[(df['revenue'] == 0) & (df['budget'] > 1_000_000)]\\\n",
    "    .sort_values(by=['budget'], ascending=False)\\\n",
    "    .reset_index(drop=True)\\\n",
    "    .head(10)\n",
    "\n",
    "revenue.head(1)"
   ]
  },
  {
   "cell_type": "markdown",
   "id": "a0020871-c67c-4318-aad0-f9bc1c595435",
   "metadata": {},
   "source": [
    "##### What's interesting about these movies?\n",
    "\n",
    "- They either had a very large budget or very high revenue - they are at the extremes of this analysis\n",
    "- They were both unpopular and didn't have great ratings\n",
    "\n",
    "Is this a trend?"
   ]
  },
  {
   "cell_type": "code",
   "execution_count": 21,
   "id": "39f3bd4c-dc02-42a3-91d2-397af3cdc459",
   "metadata": {
    "jupyter": {
     "source_hidden": true
    }
   },
   "outputs": [
    {
     "data": {
      "text/html": [
       "<div>\n",
       "<style scoped>\n",
       "    .dataframe tbody tr th:only-of-type {\n",
       "        vertical-align: middle;\n",
       "    }\n",
       "\n",
       "    .dataframe tbody tr th {\n",
       "        vertical-align: top;\n",
       "    }\n",
       "\n",
       "    .dataframe thead th {\n",
       "        text-align: right;\n",
       "    }\n",
       "</style>\n",
       "<table border=\"1\" class=\"dataframe\">\n",
       "  <thead>\n",
       "    <tr style=\"text-align: right;\">\n",
       "      <th></th>\n",
       "      <th>budget</th>\n",
       "      <th>genres</th>\n",
       "      <th>title</th>\n",
       "      <th>popularity</th>\n",
       "      <th>revenue</th>\n",
       "      <th>runtime</th>\n",
       "      <th>status</th>\n",
       "      <th>vote_average</th>\n",
       "      <th>vote_count</th>\n",
       "      <th>release_date</th>\n",
       "    </tr>\n",
       "  </thead>\n",
       "  <tbody>\n",
       "    <tr>\n",
       "      <th>0</th>\n",
       "      <td>0</td>\n",
       "      <td>[Action, Adventure, Comedy]</td>\n",
       "      <td>Wild Hogs</td>\n",
       "      <td>31.72</td>\n",
       "      <td>253625427</td>\n",
       "      <td>100.0</td>\n",
       "      <td>Released</td>\n",
       "      <td>5.6</td>\n",
       "      <td>648</td>\n",
       "      <td>2007-03-02</td>\n",
       "    </tr>\n",
       "    <tr>\n",
       "      <th>1</th>\n",
       "      <td>0</td>\n",
       "      <td>[Adventure, Comedy]</td>\n",
       "      <td>Crocodile Dundee II</td>\n",
       "      <td>15.47</td>\n",
       "      <td>239606210</td>\n",
       "      <td>110.0</td>\n",
       "      <td>Released</td>\n",
       "      <td>5.5</td>\n",
       "      <td>303</td>\n",
       "      <td>1988-05-19</td>\n",
       "    </tr>\n",
       "    <tr>\n",
       "      <th>2</th>\n",
       "      <td>0</td>\n",
       "      <td>[Adventure, Animation, Comedy, Family]</td>\n",
       "      <td>Alvin and the Chipmunks: The Road Chip</td>\n",
       "      <td>27.87</td>\n",
       "      <td>233755553</td>\n",
       "      <td>92.0</td>\n",
       "      <td>Released</td>\n",
       "      <td>5.8</td>\n",
       "      <td>428</td>\n",
       "      <td>2015-12-17</td>\n",
       "    </tr>\n",
       "    <tr>\n",
       "      <th>3</th>\n",
       "      <td>0</td>\n",
       "      <td>[Mystery, Fantasy, Adventure, Comedy]</td>\n",
       "      <td>Scooby-Doo 2: Monsters Unleashed</td>\n",
       "      <td>22.64</td>\n",
       "      <td>181466833</td>\n",
       "      <td>93.0</td>\n",
       "      <td>Released</td>\n",
       "      <td>5.4</td>\n",
       "      <td>500</td>\n",
       "      <td>2004-03-24</td>\n",
       "    </tr>\n",
       "    <tr>\n",
       "      <th>4</th>\n",
       "      <td>0</td>\n",
       "      <td>[Animation, Comedy, Family]</td>\n",
       "      <td>Garfield: A Tail of Two Kitties</td>\n",
       "      <td>16.93</td>\n",
       "      <td>141702264</td>\n",
       "      <td>78.0</td>\n",
       "      <td>Released</td>\n",
       "      <td>5.1</td>\n",
       "      <td>464</td>\n",
       "      <td>2006-06-15</td>\n",
       "    </tr>\n",
       "    <tr>\n",
       "      <th>5</th>\n",
       "      <td>0</td>\n",
       "      <td>[Music, Drama, Family]</td>\n",
       "      <td>Mr. Holland's Opus</td>\n",
       "      <td>6.78</td>\n",
       "      <td>106269971</td>\n",
       "      <td>137.0</td>\n",
       "      <td>Released</td>\n",
       "      <td>6.9</td>\n",
       "      <td>113</td>\n",
       "      <td>1995-12-29</td>\n",
       "    </tr>\n",
       "    <tr>\n",
       "      <th>6</th>\n",
       "      <td>0</td>\n",
       "      <td>[Comedy]</td>\n",
       "      <td>The Campaign</td>\n",
       "      <td>16.46</td>\n",
       "      <td>104907746</td>\n",
       "      <td>85.0</td>\n",
       "      <td>Released</td>\n",
       "      <td>5.6</td>\n",
       "      <td>578</td>\n",
       "      <td>2012-08-09</td>\n",
       "    </tr>\n",
       "    <tr>\n",
       "      <th>7</th>\n",
       "      <td>0</td>\n",
       "      <td>[Adventure, Drama, Action, Romance]</td>\n",
       "      <td>House of Flying Daggers</td>\n",
       "      <td>21.06</td>\n",
       "      <td>92863945</td>\n",
       "      <td>119.0</td>\n",
       "      <td>Released</td>\n",
       "      <td>7.1</td>\n",
       "      <td>439</td>\n",
       "      <td>2004-05-19</td>\n",
       "    </tr>\n",
       "    <tr>\n",
       "      <th>8</th>\n",
       "      <td>0</td>\n",
       "      <td>[Comedy, Crime, Drama]</td>\n",
       "      <td>Madea Goes to Jail</td>\n",
       "      <td>3.11</td>\n",
       "      <td>90508336</td>\n",
       "      <td>103.0</td>\n",
       "      <td>Released</td>\n",
       "      <td>6.4</td>\n",
       "      <td>52</td>\n",
       "      <td>2009-02-16</td>\n",
       "    </tr>\n",
       "    <tr>\n",
       "      <th>9</th>\n",
       "      <td>0</td>\n",
       "      <td>[Comedy, Drama, Science Fiction]</td>\n",
       "      <td>About Time</td>\n",
       "      <td>74.82</td>\n",
       "      <td>87100449</td>\n",
       "      <td>123.0</td>\n",
       "      <td>Released</td>\n",
       "      <td>7.8</td>\n",
       "      <td>2067</td>\n",
       "      <td>2013-08-16</td>\n",
       "    </tr>\n",
       "  </tbody>\n",
       "</table>\n",
       "</div>"
      ],
      "text/plain": [
       "   budget                                  genres  \\\n",
       "0       0             [Action, Adventure, Comedy]   \n",
       "1       0                     [Adventure, Comedy]   \n",
       "2       0  [Adventure, Animation, Comedy, Family]   \n",
       "3       0   [Mystery, Fantasy, Adventure, Comedy]   \n",
       "4       0             [Animation, Comedy, Family]   \n",
       "5       0                  [Music, Drama, Family]   \n",
       "6       0                                [Comedy]   \n",
       "7       0     [Adventure, Drama, Action, Romance]   \n",
       "8       0                  [Comedy, Crime, Drama]   \n",
       "9       0        [Comedy, Drama, Science Fiction]   \n",
       "\n",
       "                                    title  popularity    revenue  runtime  \\\n",
       "0                               Wild Hogs       31.72  253625427    100.0   \n",
       "1                     Crocodile Dundee II       15.47  239606210    110.0   \n",
       "2  Alvin and the Chipmunks: The Road Chip       27.87  233755553     92.0   \n",
       "3        Scooby-Doo 2: Monsters Unleashed       22.64  181466833     93.0   \n",
       "4         Garfield: A Tail of Two Kitties       16.93  141702264     78.0   \n",
       "5                      Mr. Holland's Opus        6.78  106269971    137.0   \n",
       "6                            The Campaign       16.46  104907746     85.0   \n",
       "7                 House of Flying Daggers       21.06   92863945    119.0   \n",
       "8                      Madea Goes to Jail        3.11   90508336    103.0   \n",
       "9                              About Time       74.82   87100449    123.0   \n",
       "\n",
       "     status  vote_average  vote_count release_date  \n",
       "0  Released           5.6         648   2007-03-02  \n",
       "1  Released           5.5         303   1988-05-19  \n",
       "2  Released           5.8         428   2015-12-17  \n",
       "3  Released           5.4         500   2004-03-24  \n",
       "4  Released           5.1         464   2006-06-15  \n",
       "5  Released           6.9         113   1995-12-29  \n",
       "6  Released           5.6         578   2012-08-09  \n",
       "7  Released           7.1         439   2004-05-19  \n",
       "8  Released           6.4          52   2009-02-16  \n",
       "9  Released           7.8        2067   2013-08-16  "
      ]
     },
     "execution_count": 21,
     "metadata": {},
     "output_type": "execute_result"
    }
   ],
   "source": [
    "budget"
   ]
  },
  {
   "cell_type": "code",
   "execution_count": 22,
   "id": "a19b70f3-75fd-4646-a2f6-f1b1690c24bd",
   "metadata": {
    "jupyter": {
     "source_hidden": true
    }
   },
   "outputs": [
    {
     "data": {
      "text/html": [
       "<div>\n",
       "<style scoped>\n",
       "    .dataframe tbody tr th:only-of-type {\n",
       "        vertical-align: middle;\n",
       "    }\n",
       "\n",
       "    .dataframe tbody tr th {\n",
       "        vertical-align: top;\n",
       "    }\n",
       "\n",
       "    .dataframe thead th {\n",
       "        text-align: right;\n",
       "    }\n",
       "</style>\n",
       "<table border=\"1\" class=\"dataframe\">\n",
       "  <thead>\n",
       "    <tr style=\"text-align: right;\">\n",
       "      <th></th>\n",
       "      <th>budget</th>\n",
       "      <th>genres</th>\n",
       "      <th>title</th>\n",
       "      <th>popularity</th>\n",
       "      <th>revenue</th>\n",
       "      <th>runtime</th>\n",
       "      <th>status</th>\n",
       "      <th>vote_average</th>\n",
       "      <th>vote_count</th>\n",
       "      <th>release_date</th>\n",
       "    </tr>\n",
       "  </thead>\n",
       "  <tbody>\n",
       "    <tr>\n",
       "      <th>0</th>\n",
       "      <td>150000000</td>\n",
       "      <td>[Drama, Horror, Thriller]</td>\n",
       "      <td>The Wolfman</td>\n",
       "      <td>21.21</td>\n",
       "      <td>0</td>\n",
       "      <td>102.0</td>\n",
       "      <td>Released</td>\n",
       "      <td>5.5</td>\n",
       "      <td>549</td>\n",
       "      <td>2010-02-11</td>\n",
       "    </tr>\n",
       "    <tr>\n",
       "      <th>1</th>\n",
       "      <td>100000000</td>\n",
       "      <td>[Action, Adventure, Fantasy, Science Fiction, ...</td>\n",
       "      <td>Dragonball Evolution</td>\n",
       "      <td>21.68</td>\n",
       "      <td>0</td>\n",
       "      <td>85.0</td>\n",
       "      <td>Released</td>\n",
       "      <td>2.9</td>\n",
       "      <td>462</td>\n",
       "      <td>2009-04-01</td>\n",
       "    </tr>\n",
       "    <tr>\n",
       "      <th>2</th>\n",
       "      <td>90000000</td>\n",
       "      <td>[Science Fiction, Action, Drama, Thriller]</td>\n",
       "      <td>Volcano</td>\n",
       "      <td>19.84</td>\n",
       "      <td>0</td>\n",
       "      <td>104.0</td>\n",
       "      <td>Released</td>\n",
       "      <td>5.2</td>\n",
       "      <td>376</td>\n",
       "      <td>1997-04-25</td>\n",
       "    </tr>\n",
       "    <tr>\n",
       "      <th>3</th>\n",
       "      <td>90000000</td>\n",
       "      <td>[Action, Adventure, Family, Fantasy]</td>\n",
       "      <td>Mighty Joe Young</td>\n",
       "      <td>6.64</td>\n",
       "      <td>0</td>\n",
       "      <td>114.0</td>\n",
       "      <td>Released</td>\n",
       "      <td>5.9</td>\n",
       "      <td>208</td>\n",
       "      <td>1998-12-25</td>\n",
       "    </tr>\n",
       "    <tr>\n",
       "      <th>4</th>\n",
       "      <td>85000000</td>\n",
       "      <td>[Comedy, Fantasy, Romance]</td>\n",
       "      <td>Little Nicky</td>\n",
       "      <td>18.34</td>\n",
       "      <td>0</td>\n",
       "      <td>90.0</td>\n",
       "      <td>Released</td>\n",
       "      <td>5.2</td>\n",
       "      <td>438</td>\n",
       "      <td>2000-11-10</td>\n",
       "    </tr>\n",
       "    <tr>\n",
       "      <th>5</th>\n",
       "      <td>84000000</td>\n",
       "      <td>[Fantasy, Comedy, Family, Adventure]</td>\n",
       "      <td>Son of the Mask</td>\n",
       "      <td>17.82</td>\n",
       "      <td>0</td>\n",
       "      <td>94.0</td>\n",
       "      <td>Released</td>\n",
       "      <td>3.6</td>\n",
       "      <td>338</td>\n",
       "      <td>2005-02-18</td>\n",
       "    </tr>\n",
       "    <tr>\n",
       "      <th>6</th>\n",
       "      <td>84000000</td>\n",
       "      <td>[Action, Comedy, Crime, Thriller]</td>\n",
       "      <td>RED 2</td>\n",
       "      <td>44.34</td>\n",
       "      <td>0</td>\n",
       "      <td>116.0</td>\n",
       "      <td>Released</td>\n",
       "      <td>6.4</td>\n",
       "      <td>1526</td>\n",
       "      <td>2013-07-18</td>\n",
       "    </tr>\n",
       "    <tr>\n",
       "      <th>7</th>\n",
       "      <td>80000000</td>\n",
       "      <td>[Drama, Mystery, Thriller]</td>\n",
       "      <td>Instinct</td>\n",
       "      <td>7.39</td>\n",
       "      <td>0</td>\n",
       "      <td>126.0</td>\n",
       "      <td>Released</td>\n",
       "      <td>6.2</td>\n",
       "      <td>146</td>\n",
       "      <td>1999-06-04</td>\n",
       "    </tr>\n",
       "    <tr>\n",
       "      <th>8</th>\n",
       "      <td>80000000</td>\n",
       "      <td>[Comedy]</td>\n",
       "      <td>Edtv</td>\n",
       "      <td>14.30</td>\n",
       "      <td>0</td>\n",
       "      <td>122.0</td>\n",
       "      <td>Released</td>\n",
       "      <td>5.7</td>\n",
       "      <td>166</td>\n",
       "      <td>1999-03-26</td>\n",
       "    </tr>\n",
       "    <tr>\n",
       "      <th>9</th>\n",
       "      <td>75000000</td>\n",
       "      <td>[Action, Adventure, Comedy, Family]</td>\n",
       "      <td>Inspector Gadget</td>\n",
       "      <td>17.56</td>\n",
       "      <td>0</td>\n",
       "      <td>78.0</td>\n",
       "      <td>Released</td>\n",
       "      <td>4.3</td>\n",
       "      <td>318</td>\n",
       "      <td>1999-07-23</td>\n",
       "    </tr>\n",
       "  </tbody>\n",
       "</table>\n",
       "</div>"
      ],
      "text/plain": [
       "      budget                                             genres  \\\n",
       "0  150000000                          [Drama, Horror, Thriller]   \n",
       "1  100000000  [Action, Adventure, Fantasy, Science Fiction, ...   \n",
       "2   90000000         [Science Fiction, Action, Drama, Thriller]   \n",
       "3   90000000               [Action, Adventure, Family, Fantasy]   \n",
       "4   85000000                         [Comedy, Fantasy, Romance]   \n",
       "5   84000000               [Fantasy, Comedy, Family, Adventure]   \n",
       "6   84000000                  [Action, Comedy, Crime, Thriller]   \n",
       "7   80000000                         [Drama, Mystery, Thriller]   \n",
       "8   80000000                                           [Comedy]   \n",
       "9   75000000                [Action, Adventure, Comedy, Family]   \n",
       "\n",
       "                  title  popularity  revenue  runtime    status  vote_average  \\\n",
       "0           The Wolfman       21.21        0    102.0  Released           5.5   \n",
       "1  Dragonball Evolution       21.68        0     85.0  Released           2.9   \n",
       "2               Volcano       19.84        0    104.0  Released           5.2   \n",
       "3      Mighty Joe Young        6.64        0    114.0  Released           5.9   \n",
       "4          Little Nicky       18.34        0     90.0  Released           5.2   \n",
       "5       Son of the Mask       17.82        0     94.0  Released           3.6   \n",
       "6                 RED 2       44.34        0    116.0  Released           6.4   \n",
       "7              Instinct        7.39        0    126.0  Released           6.2   \n",
       "8                  Edtv       14.30        0    122.0  Released           5.7   \n",
       "9      Inspector Gadget       17.56        0     78.0  Released           4.3   \n",
       "\n",
       "   vote_count release_date  \n",
       "0         549   2010-02-11  \n",
       "1         462   2009-04-01  \n",
       "2         376   1997-04-25  \n",
       "3         208   1998-12-25  \n",
       "4         438   2000-11-10  \n",
       "5         338   2005-02-18  \n",
       "6        1526   2013-07-18  \n",
       "7         146   1999-06-04  \n",
       "8         166   1999-03-26  \n",
       "9         318   1999-07-23  "
      ]
     },
     "execution_count": 22,
     "metadata": {},
     "output_type": "execute_result"
    }
   ],
   "source": [
    "revenue"
   ]
  },
  {
   "cell_type": "markdown",
   "id": "00646ef5-c336-4f9a-9cfa-ce30fe955180",
   "metadata": {},
   "source": [
    "There is a potential trend that movies with lower 'vote_average' ratings had missing details"
   ]
  },
  {
   "cell_type": "markdown",
   "id": "df5610cc-1709-4a8d-a9dd-0c66563c8cb7",
   "metadata": {},
   "source": [
    "#### What percentage of films have 0 budget and 0 revenue?\n",
    "##### Breaking down the data\n",
    "\n",
    "Films were put into bracketed based on their revenue and budget."
   ]
  },
  {
   "cell_type": "code",
   "execution_count": 25,
   "id": "22b21774-ced3-4f0a-ad9c-bd6466c5e7c3",
   "metadata": {
    "jupyter": {
     "source_hidden": true
    }
   },
   "outputs": [],
   "source": [
    "def revenue_binning(r):\n",
    "    if r == 0:\n",
    "        return 'No Revenue'\n",
    "    elif r <= 10_000_000:\n",
    "        return 'Very Low'\n",
    "    elif r <= 50_000_000:\n",
    "        return 'Low'\n",
    "    elif r <= 100_000_000:\n",
    "        return 'Moderate'\n",
    "    elif r <= 500_000_000:\n",
    "        return 'High'\n",
    "    elif r <= 1_000_000_000:\n",
    "        return 'Very High'\n",
    "    else:\n",
    "        return 'Blockbuster'\n",
    "\n",
    "df['revenue_bracket'] = df['revenue'].apply(revenue_binning)\n",
    "\n",
    "def budget_binning(b):\n",
    "    if b == 0:\n",
    "        return 'No budget'\n",
    "    elif b <= 1_000_000:\n",
    "        return 'Very Low'\n",
    "    elif b <= 10_000_000:\n",
    "        return 'Low'\n",
    "    elif b <= 25_000_000:\n",
    "        return 'Moderate'\n",
    "    elif b <= 50_000_000:\n",
    "        return 'High'\n",
    "    elif b <= 100_000_000:\n",
    "        return 'Very High'\n",
    "    else:\n",
    "        return 'Blockbuster Budget'\n",
    "\n",
    "df['budget_bracket'] = df['budget'].apply(budget_binning)"
   ]
  },
  {
   "cell_type": "markdown",
   "id": "9e58104d-955a-446c-8ad3-d855622e41af",
   "metadata": {},
   "source": [
    "Now the revenue and bracket columns are brackets, I'm most interested in how many occurences of 0 there are.\n",
    "\n",
    "There should be almost 0, as there is a budget to almost every film released in cinema."
   ]
  },
  {
   "cell_type": "code",
   "execution_count": 27,
   "id": "b7530bef-cdf0-4cba-a692-595090a28839",
   "metadata": {
    "jupyter": {
     "source_hidden": true
    }
   },
   "outputs": [],
   "source": [
    "def no_revenue(df):\n",
    "    total_values = df.revenue_bracket.value_counts().reset_index()\n",
    "    total_count = len(df)\n",
    "    total_values['percent'] = round((total_values['count']/total_count)*100, 2)\n",
    "\n",
    "    return total_values\n",
    "\n",
    "def no_budget(df):\n",
    "    total_values = df.budget_bracket.value_counts().reset_index()\n",
    "    total_count = len(df)\n",
    "    total_values['percent'] = round((total_values['count']/total_count)*100, 2)\n",
    "\n",
    "    return total_values\n",
    "\n",
    "revenue_data = no_revenue(df)\n",
    "budget_data = no_budget(df)\n"
   ]
  },
  {
   "cell_type": "markdown",
   "id": "fb750fd8-9025-4800-bcdb-b6423726d391",
   "metadata": {},
   "source": [
    "#### What percentage of films have 0 budget and revenue?\n",
    "##### Visualising the data\n",
    "\n",
    "A visualisation was created for each table to see the relationship between each brackets:"
   ]
  },
  {
   "cell_type": "code",
   "execution_count": 29,
   "id": "c4a39332-2e07-447c-b58d-23430e015f2e",
   "metadata": {
    "jupyter": {
     "source_hidden": true
    }
   },
   "outputs": [
    {
     "name": "stderr",
     "output_type": "stream",
     "text": [
      "C:\\Users\\Matth\\AppData\\Local\\Temp\\ipykernel_260\\1872353351.py:3: FutureWarning: \n",
      "\n",
      "Passing `palette` without assigning `hue` is deprecated and will be removed in v0.14.0. Assign the `x` variable to `hue` and set `legend=False` for the same effect.\n",
      "\n",
      "  sns.barplot(data = revenue_data,\n"
     ]
    },
    {
     "data": {
      "image/png": "[encoded data removed]",
      "text/plain": [
       "<Figure size 1000x500 with 1 Axes>"
      ]
     },
     "metadata": {},
     "output_type": "display_data"
    }
   ],
   "source": [
    "plt.figure(figsize = (10,5))\n",
    "\n",
    "sns.barplot(data = revenue_data,\n",
    "            x = 'revenue_bracket',\n",
    "            y = 'count',\n",
    "            palette = 'winter_r'\n",
    "           )\n",
    "\n",
    "plt.xticks(\n",
    "    horizontalalignment = 'center',\n",
    "    fontweight = 'light'\n",
    ")\n",
    "plt.xlabel('Revenue Brackets',fontsize=14)\n",
    "plt.ylabel('Total Per Bracket',fontsize=14)\n",
    "plt.title('Totals of each Revenue Bracket', fontsize=16)\n",
    "\n",
    "plt.show()"
   ]
  },
  {
   "cell_type": "markdown",
   "id": "360f69c2-fc9f-4b63-99f3-460bea0b3a66",
   "metadata": {},
   "source": [
    "There are a significant number of movies that are 0 revenue, compared to the rest of the data"
   ]
  },
  {
   "cell_type": "code",
   "execution_count": 31,
   "id": "227bed63-dcc9-4706-ad8a-9c8403548cef",
   "metadata": {
    "jupyter": {
     "source_hidden": true
    }
   },
   "outputs": [
    {
     "name": "stderr",
     "output_type": "stream",
     "text": [
      "C:\\Users\\Matth\\AppData\\Local\\Temp\\ipykernel_260\\3056794751.py:3: FutureWarning: \n",
      "\n",
      "Passing `palette` without assigning `hue` is deprecated and will be removed in v0.14.0. Assign the `x` variable to `hue` and set `legend=False` for the same effect.\n",
      "\n",
      "  sns.barplot(data = budget_data,\n"
     ]
    },
    {
     "data": {
      "image/png": "[encoded data removed]",
      "text/plain": [
       "<Figure size 1000x500 with 1 Axes>"
      ]
     },
     "metadata": {},
     "output_type": "display_data"
    }
   ],
   "source": [
    "plt.figure(figsize = (10,5))\n",
    "\n",
    "sns.barplot(data = budget_data,\n",
    "            x = 'budget_bracket',\n",
    "            y = 'count',\n",
    "            palette = 'autumn_r'\n",
    "           )\n",
    "\n",
    "plt.xticks(\n",
    "    horizontalalignment = 'center',\n",
    "    fontweight = 'light'\n",
    ")\n",
    "plt.xlabel('Budget Brackets',fontsize=14)\n",
    "plt.ylabel('Total Per Bracket',fontsize=14)\n",
    "plt.title('Totals of each Budget Bracket',fontsize=16)\n",
    "\n",
    "plt.show()"
   ]
  },
  {
   "cell_type": "markdown",
   "id": "7e2f8709-15ff-4ad7-b0b5-8d6664e5cdc6",
   "metadata": {},
   "source": [
    "There are a significant number of movies that have 0 budget, compared to the rest of the data.\n",
    "\n",
    "Although there are less than less missing values than the revenue column."
   ]
  },
  {
   "cell_type": "markdown",
   "id": "1ff7b21c-80cb-4330-b88c-da13dad45865",
   "metadata": {},
   "source": [
    "#### What does this mean?\n",
    "\n",
    "The insights from this dataset cannot be fully accurate.  \n",
    "  \n",
    "\n",
    "  \n",
    "The mean values could be inserted in the rows missing values or the rows could be removed completely but will still impact certain insights.  \n",
    "*(In the interest of time, this wasn't carried out)*"
   ]
  },
  {
   "cell_type": "markdown",
   "id": "6a654c6f-c47d-42f1-be51-36be035031ba",
   "metadata": {},
   "source": [
    "## 2) Is the movie industry getting more profitable and when?"
   ]
  },
  {
   "cell_type": "markdown",
   "id": "cbc60aa6-a9eb-4902-bfde-b3c2da92611c",
   "metadata": {},
   "source": [
    "Is the movie industry an industry worth investing?\n",
    "\n",
    "To find out, the profitability across each decade can be visualised to determine this."
   ]
  },
  {
   "cell_type": "code",
   "execution_count": 36,
   "id": "d724ba63-62b2-4f74-8409-0912d8a16c08",
   "metadata": {
    "jupyter": {
     "source_hidden": true
    }
   },
   "outputs": [],
   "source": [
    "df['gross_profit'] = df['revenue'] - df['budget']\n",
    "\n",
    "df['year'] = pd.to_datetime(df['release_date'])\n",
    "df['year'] = pd.to_datetime(df['year']).dt.year\n",
    "df['month'] = pd.to_datetime(df['release_date']).dt.month\n",
    "df['decade'] = (df['year'] // 10) * 10"
   ]
  },
  {
   "cell_type": "code",
   "execution_count": 37,
   "id": "92383b35-1113-4b3c-b511-46a0652eda95",
   "metadata": {
    "jupyter": {
     "source_hidden": true
    }
   },
   "outputs": [],
   "source": [
    "decade_data = df.groupby(\"decade\")[\"gross_profit\"].sum().reset_index()"
   ]
  },
  {
   "cell_type": "code",
   "execution_count": 38,
   "id": "95b7aaed-e1bf-4b65-afb5-de695e51d396",
   "metadata": {
    "jupyter": {
     "source_hidden": true
    }
   },
   "outputs": [
    {
     "data": {
      "image/png": "[encoded data removed]",
      "text/plain": [
       "<Figure size 1000x500 with 1 Axes>"
      ]
     },
     "metadata": {},
     "output_type": "display_data"
    }
   ],
   "source": [
    "# Plotting data\n",
    "plt.figure(figsize=(10, 5))\n",
    "sns.lineplot(x=decade_data['decade'], \n",
    "             y=decade_data['gross_profit'], \n",
    "             marker='o', \n",
    "             linewidth=2.5, \n",
    "            )\n",
    "\n",
    "# Grid and Labels\n",
    "plt.grid(True, linestyle='--', alpha=0.7)\n",
    "plt.xlabel('Decade', fontsize=14)\n",
    "plt.ylabel('% of Total Gross Profit', fontsize=14)\n",
    "plt.title('Movie Profitability Per Decade', fontsize=16)\n",
    "\n",
    "plt.show()"
   ]
  },
  {
   "cell_type": "markdown",
   "id": "f5e37028-704e-4624-9f2b-cb5c73b8b2b0",
   "metadata": {},
   "source": [
    "Decade on decade, the movie industry been consistently more profitable except from the 1940s, which is likely due to WW2.\n",
    "\n",
    "It is noteable that there has been a significant decrease during the 2010s, likely due to the data only going up to the end of 2016, meaning three years of data is missing.  \n",
    "Therefore the 2010s is not fully indicitive of the final result of the decade."
   ]
  },
  {
   "cell_type": "markdown",
   "id": "f3556b7f-6a53-4e5f-9d73-097877f78b61",
   "metadata": {},
   "source": [
    "### When is the most profitable time of year to release a movie?\n",
    "\n",
    "This is based on the average profit of a movie, depending on the season a movie was released.  \n",
    "\n",
    "What do you think it is, it may surprise you?"
   ]
  },
  {
   "cell_type": "code",
   "execution_count": 41,
   "id": "38a63399-e1a4-4a87-817a-75a9364a8848",
   "metadata": {
    "jupyter": {
     "source_hidden": true
    }
   },
   "outputs": [],
   "source": [
    "def season(month):\n",
    "    if month in [12, 1, 2]:\n",
    "        return 'Winter'\n",
    "    elif month <= 5:\n",
    "        return 'Spring'\n",
    "    elif month <= 8:\n",
    "        return 'Summer'\n",
    "    else:\n",
    "        return 'Autumn'\n",
    "\n",
    "df['season'] = df['month'].apply(season)"
   ]
  },
  {
   "cell_type": "code",
   "execution_count": 42,
   "id": "f5e3a2ed-8ce8-4bad-adfb-6ab7eb72f5c4",
   "metadata": {},
   "outputs": [],
   "source": [
    "seasonal_profit = df.groupby('season')[['gross_profit']].mean().reset_index()"
   ]
  },
  {
   "cell_type": "code",
   "execution_count": 43,
   "id": "b64b8223-1bce-4d94-8926-802a9ae187f8",
   "metadata": {
    "jupyter": {
     "source_hidden": true
    }
   },
   "outputs": [
    {
     "data": {
      "image/png": "[encoded data removed]",
      "text/plain": [
       "<Figure size 600x600 with 1 Axes>"
      ]
     },
     "metadata": {},
     "output_type": "display_data"
    }
   ],
   "source": [
    "plt.figure(figsize=(6, 6))\n",
    "\n",
    "plt.pie(seasonal_profit[\"gross_profit\"],\n",
    "        labels=seasonal_profit[\"season\"], \n",
    "        autopct='%1.2f%%',\n",
    "        colors=['#FFB347', '#77DD77', '#FDFD96', '#779ECB'],\n",
    "        startangle=140)\n",
    "\n",
    "plt.title(\"Average Gross Profit each Season\", fontsize=16)\n",
    "\n",
    "plt.show()\n",
    "\n"
   ]
  },
  {
   "cell_type": "markdown",
   "id": "582e570e-542a-4e0d-9f7a-ba6d1271ad9e",
   "metadata": {},
   "source": [
    "On average, movies are most profitable during the Summer than any other month.\n",
    "\n",
    "Autmum being the lowest performing season, closely followed by Winter"
   ]
  },
  {
   "cell_type": "markdown",
   "id": "91529313-c013-4bb2-8169-623c3af7c8d3",
   "metadata": {},
   "source": [
    "## Actionable Recommendations"
   ]
  },
  {
   "cell_type": "markdown",
   "id": "37b18845-b6be-4765-9d13-9e01da48da6e",
   "metadata": {},
   "source": [
    "- This dataset is not entirely complete and therefore not completely accurate\n",
    "\n",
    "- The movie industry is consistently profitable\n",
    "\n",
    "- The best time of year to release a movie on average is in the summer"
   ]
  },
  {
   "cell_type": "markdown",
   "id": "bab2f9c4-589e-46c3-be87-58466ef0c7ac",
   "metadata": {},
   "source": [
    "**Any questions?**"
   ]
  }
 ],
 "metadata": {
  "kernelspec": {
   "display_name": "Python 3 (ipykernel)",
   "language": "python",
   "name": "python3"
  },
  "language_info": {
   "codemirror_mode": {
    "name": "ipython",
    "version": 3
   },
   "file_extension": ".py",
   "mimetype": "text/x-python",
   "name": "python",
   "nbconvert_exporter": "python",
   "pygments_lexer": "ipython3",
   "version": "3.12.7"
  }
 },
 "nbformat": 4,
 "nbformat_minor": 5
}
